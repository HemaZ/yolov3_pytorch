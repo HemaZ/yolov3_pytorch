{
 "cells": [
  {
   "cell_type": "code",
   "execution_count": 1,
   "metadata": {},
   "outputs": [],
   "source": [
    "from __future__ import division\n",
    "import torch\n",
    "import torch.nn as nn\n",
    "import torch.nn.functional as F\n",
    "from torch.autograd import Variable\n",
    "import numpy as np  \n"
   ]
  },
  {
   "cell_type": "code",
   "execution_count": 3,
   "metadata": {},
   "outputs": [],
   "source": [
    "def parse_cfg(cfgfile):\n",
    "    \"\"\"\"\n",
    "    This Function takes Darknet Cfg file and returns \n",
    "    CONVNEt Blocks, each block is represented as dicttionary\n",
    "    \"\"\"\n",
    "    file=open(cfgfile,'r')\n",
    "    lines=file.read().split('\\n')\n",
    "    lines=[x for x in lines if len(x)>0 and x[0]!='#']\n",
    "    lines = [x.rstrip().lstrip() for x in lines]  \n",
    "    file.close()\n",
    "    del(file)\n",
    "    file=open('cfg/cfgout.txt','w')\n",
    "    file.write(str(lines))\n",
    "    file.close()\n",
    "\n",
    "\n",
    "    block={}\n",
    "    blocks=[]\n",
    "    return lines\n",
    "   "
   ]
  },
  {
   "cell_type": "code",
   "execution_count": 4,
   "metadata": {},
   "outputs": [],
   "source": [
    "lines=parse_cfg('cfg/yolov3.cfg')"
   ]
  },
  {
   "cell_type": "code",
   "execution_count": 7,
   "metadata": {},
   "outputs": [
    {
     "data": {
      "text/plain": [
       "'['"
      ]
     },
     "execution_count": 7,
     "metadata": {},
     "output_type": "execute_result"
    }
   ],
   "source": [
    "lines[0][0]"
   ]
  },
  {
   "cell_type": "code",
   "execution_count": null,
   "metadata": {},
   "outputs": [],
   "source": []
  }
 ],
 "metadata": {
  "kernelspec": {
   "display_name": "Python 3",
   "language": "python",
   "name": "python3"
  },
  "language_info": {
   "codemirror_mode": {
    "name": "ipython",
    "version": 3
   },
   "file_extension": ".py",
   "mimetype": "text/x-python",
   "name": "python",
   "nbconvert_exporter": "python",
   "pygments_lexer": "ipython3",
   "version": "3.6.5"
  }
 },
 "nbformat": 4,
 "nbformat_minor": 2
}
